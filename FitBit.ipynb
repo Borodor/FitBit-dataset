{
 "cells": [
  {
   "cell_type": "markdown",
   "metadata": {},
   "source": [
    "# FitBit Data"
   ]
  },
  {
   "cell_type": "code",
   "execution_count": 1,
   "metadata": {
    "collapsed": true
   },
   "outputs": [],
   "source": [
    "import numpy as np\n",
    "import pandas as pd"
   ]
  },
  {
   "cell_type": "code",
   "execution_count": 2,
   "metadata": {},
   "outputs": [
    {
     "name": "stderr",
     "output_type": "stream",
     "text": [
      "C:\\ProgramData\\Anaconda3\\lib\\site-packages\\IPython\\core\\interactiveshell.py:2717: DtypeWarning: Columns (11,14,19,22,25,70,73,86,87,89,90,94,97,100) have mixed types. Specify dtype option on import or set low_memory=False.\n",
      "  interactivity=interactivity, compiler=compiler, result=result)\n"
     ]
    }
   ],
   "source": [
    "df = pd.read_csv('pml-training.csv')"
   ]
  },
  {
   "cell_type": "code",
   "execution_count": 3,
   "metadata": {},
   "outputs": [
    {
     "data": {
      "text/plain": [
       "(19622, 160)"
      ]
     },
     "execution_count": 3,
     "metadata": {},
     "output_type": "execute_result"
    }
   ],
   "source": [
    "df.columns\n",
    "df.shape"
   ]
  },
  {
   "cell_type": "code",
   "execution_count": 4,
   "metadata": {
    "collapsed": true
   },
   "outputs": [],
   "source": [
    "df.dropna(thresh=len(df) - 196, axis=1, inplace = True)"
   ]
  },
  {
   "cell_type": "code",
   "execution_count": 5,
   "metadata": {
    "collapsed": true
   },
   "outputs": [],
   "source": [
    "from sklearn.preprocessing import LabelEncoder"
   ]
  },
  {
   "cell_type": "code",
   "execution_count": 6,
   "metadata": {},
   "outputs": [
    {
     "data": {
      "text/plain": [
       "LabelEncoder()"
      ]
     },
     "execution_count": 6,
     "metadata": {},
     "output_type": "execute_result"
    }
   ],
   "source": [
    "le = LabelEncoder()\n",
    "le.fit(['A', 'B', 'C', 'D', 'E'])"
   ]
  },
  {
   "cell_type": "code",
   "execution_count": 7,
   "metadata": {},
   "outputs": [
    {
     "ename": "ValueError",
     "evalue": "y contains new labels: ['a' 'b']",
     "output_type": "error",
     "traceback": [
      "\u001b[1;31m---------------------------------------------------------------------------\u001b[0m",
      "\u001b[1;31mValueError\u001b[0m                                Traceback (most recent call last)",
      "\u001b[1;32m<ipython-input-7-68d98ebef365>\u001b[0m in \u001b[0;36m<module>\u001b[1;34m()\u001b[0m\n\u001b[1;32m----> 1\u001b[1;33m \u001b[0mle\u001b[0m\u001b[1;33m.\u001b[0m\u001b[0mtransform\u001b[0m\u001b[1;33m(\u001b[0m\u001b[1;33m[\u001b[0m\u001b[1;34m'a'\u001b[0m\u001b[1;33m,\u001b[0m \u001b[1;34m'b'\u001b[0m\u001b[1;33m,\u001b[0m \u001b[1;34m'a'\u001b[0m\u001b[1;33m,\u001b[0m \u001b[1;34m'a'\u001b[0m\u001b[1;33m]\u001b[0m\u001b[1;33m)\u001b[0m\u001b[1;33m\u001b[0m\u001b[0m\n\u001b[0m",
      "\u001b[1;32mC:\\ProgramData\\Anaconda3\\lib\\site-packages\\sklearn\\preprocessing\\label.py\u001b[0m in \u001b[0;36mtransform\u001b[1;34m(self, y)\u001b[0m\n\u001b[0;32m    151\u001b[0m         \u001b[1;32mif\u001b[0m \u001b[0mlen\u001b[0m\u001b[1;33m(\u001b[0m\u001b[0mnp\u001b[0m\u001b[1;33m.\u001b[0m\u001b[0mintersect1d\u001b[0m\u001b[1;33m(\u001b[0m\u001b[0mclasses\u001b[0m\u001b[1;33m,\u001b[0m \u001b[0mself\u001b[0m\u001b[1;33m.\u001b[0m\u001b[0mclasses_\u001b[0m\u001b[1;33m)\u001b[0m\u001b[1;33m)\u001b[0m \u001b[1;33m<\u001b[0m \u001b[0mlen\u001b[0m\u001b[1;33m(\u001b[0m\u001b[0mclasses\u001b[0m\u001b[1;33m)\u001b[0m\u001b[1;33m:\u001b[0m\u001b[1;33m\u001b[0m\u001b[0m\n\u001b[0;32m    152\u001b[0m             \u001b[0mdiff\u001b[0m \u001b[1;33m=\u001b[0m \u001b[0mnp\u001b[0m\u001b[1;33m.\u001b[0m\u001b[0msetdiff1d\u001b[0m\u001b[1;33m(\u001b[0m\u001b[0mclasses\u001b[0m\u001b[1;33m,\u001b[0m \u001b[0mself\u001b[0m\u001b[1;33m.\u001b[0m\u001b[0mclasses_\u001b[0m\u001b[1;33m)\u001b[0m\u001b[1;33m\u001b[0m\u001b[0m\n\u001b[1;32m--> 153\u001b[1;33m             \u001b[1;32mraise\u001b[0m \u001b[0mValueError\u001b[0m\u001b[1;33m(\u001b[0m\u001b[1;34m\"y contains new labels: %s\"\u001b[0m \u001b[1;33m%\u001b[0m \u001b[0mstr\u001b[0m\u001b[1;33m(\u001b[0m\u001b[0mdiff\u001b[0m\u001b[1;33m)\u001b[0m\u001b[1;33m)\u001b[0m\u001b[1;33m\u001b[0m\u001b[0m\n\u001b[0m\u001b[0;32m    154\u001b[0m         \u001b[1;32mreturn\u001b[0m \u001b[0mnp\u001b[0m\u001b[1;33m.\u001b[0m\u001b[0msearchsorted\u001b[0m\u001b[1;33m(\u001b[0m\u001b[0mself\u001b[0m\u001b[1;33m.\u001b[0m\u001b[0mclasses_\u001b[0m\u001b[1;33m,\u001b[0m \u001b[0my\u001b[0m\u001b[1;33m)\u001b[0m\u001b[1;33m\u001b[0m\u001b[0m\n\u001b[0;32m    155\u001b[0m \u001b[1;33m\u001b[0m\u001b[0m\n",
      "\u001b[1;31mValueError\u001b[0m: y contains new labels: ['a' 'b']"
     ]
    }
   ],
   "source": [
    "le.transform(['a', 'b', 'a', 'a'])"
   ]
  },
  {
   "cell_type": "code",
   "execution_count": 8,
   "metadata": {},
   "outputs": [
    {
     "data": {
      "text/html": [
       "<div>\n",
       "<style>\n",
       "    .dataframe thead tr:only-child th {\n",
       "        text-align: right;\n",
       "    }\n",
       "\n",
       "    .dataframe thead th {\n",
       "        text-align: left;\n",
       "    }\n",
       "\n",
       "    .dataframe tbody tr th {\n",
       "        vertical-align: top;\n",
       "    }\n",
       "</style>\n",
       "<table border=\"1\" class=\"dataframe\">\n",
       "  <thead>\n",
       "    <tr style=\"text-align: right;\">\n",
       "      <th></th>\n",
       "      <th>Unnamed: 0</th>\n",
       "      <th>user_name</th>\n",
       "      <th>raw_timestamp_part_1</th>\n",
       "      <th>raw_timestamp_part_2</th>\n",
       "      <th>cvtd_timestamp</th>\n",
       "      <th>new_window</th>\n",
       "      <th>num_window</th>\n",
       "      <th>roll_belt</th>\n",
       "      <th>pitch_belt</th>\n",
       "      <th>yaw_belt</th>\n",
       "      <th>...</th>\n",
       "      <th>gyros_forearm_x</th>\n",
       "      <th>gyros_forearm_y</th>\n",
       "      <th>gyros_forearm_z</th>\n",
       "      <th>accel_forearm_x</th>\n",
       "      <th>accel_forearm_y</th>\n",
       "      <th>accel_forearm_z</th>\n",
       "      <th>magnet_forearm_x</th>\n",
       "      <th>magnet_forearm_y</th>\n",
       "      <th>magnet_forearm_z</th>\n",
       "      <th>classe</th>\n",
       "    </tr>\n",
       "  </thead>\n",
       "  <tbody>\n",
       "    <tr>\n",
       "      <th>0</th>\n",
       "      <td>1</td>\n",
       "      <td>carlitos</td>\n",
       "      <td>1323084231</td>\n",
       "      <td>788290</td>\n",
       "      <td>05/12/2011 11:23</td>\n",
       "      <td>no</td>\n",
       "      <td>11</td>\n",
       "      <td>1.41</td>\n",
       "      <td>8.07</td>\n",
       "      <td>-94.4</td>\n",
       "      <td>...</td>\n",
       "      <td>0.03</td>\n",
       "      <td>0.00</td>\n",
       "      <td>-0.02</td>\n",
       "      <td>192</td>\n",
       "      <td>203</td>\n",
       "      <td>-215</td>\n",
       "      <td>-17</td>\n",
       "      <td>654.0</td>\n",
       "      <td>476.0</td>\n",
       "      <td>A</td>\n",
       "    </tr>\n",
       "    <tr>\n",
       "      <th>1</th>\n",
       "      <td>2</td>\n",
       "      <td>carlitos</td>\n",
       "      <td>1323084231</td>\n",
       "      <td>808298</td>\n",
       "      <td>05/12/2011 11:23</td>\n",
       "      <td>no</td>\n",
       "      <td>11</td>\n",
       "      <td>1.41</td>\n",
       "      <td>8.07</td>\n",
       "      <td>-94.4</td>\n",
       "      <td>...</td>\n",
       "      <td>0.02</td>\n",
       "      <td>0.00</td>\n",
       "      <td>-0.02</td>\n",
       "      <td>192</td>\n",
       "      <td>203</td>\n",
       "      <td>-216</td>\n",
       "      <td>-18</td>\n",
       "      <td>661.0</td>\n",
       "      <td>473.0</td>\n",
       "      <td>A</td>\n",
       "    </tr>\n",
       "    <tr>\n",
       "      <th>2</th>\n",
       "      <td>3</td>\n",
       "      <td>carlitos</td>\n",
       "      <td>1323084231</td>\n",
       "      <td>820366</td>\n",
       "      <td>05/12/2011 11:23</td>\n",
       "      <td>no</td>\n",
       "      <td>11</td>\n",
       "      <td>1.42</td>\n",
       "      <td>8.07</td>\n",
       "      <td>-94.4</td>\n",
       "      <td>...</td>\n",
       "      <td>0.03</td>\n",
       "      <td>-0.02</td>\n",
       "      <td>0.00</td>\n",
       "      <td>196</td>\n",
       "      <td>204</td>\n",
       "      <td>-213</td>\n",
       "      <td>-18</td>\n",
       "      <td>658.0</td>\n",
       "      <td>469.0</td>\n",
       "      <td>A</td>\n",
       "    </tr>\n",
       "    <tr>\n",
       "      <th>3</th>\n",
       "      <td>4</td>\n",
       "      <td>carlitos</td>\n",
       "      <td>1323084232</td>\n",
       "      <td>120339</td>\n",
       "      <td>05/12/2011 11:23</td>\n",
       "      <td>no</td>\n",
       "      <td>12</td>\n",
       "      <td>1.48</td>\n",
       "      <td>8.05</td>\n",
       "      <td>-94.4</td>\n",
       "      <td>...</td>\n",
       "      <td>0.02</td>\n",
       "      <td>-0.02</td>\n",
       "      <td>0.00</td>\n",
       "      <td>189</td>\n",
       "      <td>206</td>\n",
       "      <td>-214</td>\n",
       "      <td>-16</td>\n",
       "      <td>658.0</td>\n",
       "      <td>469.0</td>\n",
       "      <td>A</td>\n",
       "    </tr>\n",
       "    <tr>\n",
       "      <th>4</th>\n",
       "      <td>5</td>\n",
       "      <td>carlitos</td>\n",
       "      <td>1323084232</td>\n",
       "      <td>196328</td>\n",
       "      <td>05/12/2011 11:23</td>\n",
       "      <td>no</td>\n",
       "      <td>12</td>\n",
       "      <td>1.48</td>\n",
       "      <td>8.07</td>\n",
       "      <td>-94.4</td>\n",
       "      <td>...</td>\n",
       "      <td>0.02</td>\n",
       "      <td>0.00</td>\n",
       "      <td>-0.02</td>\n",
       "      <td>189</td>\n",
       "      <td>206</td>\n",
       "      <td>-214</td>\n",
       "      <td>-17</td>\n",
       "      <td>655.0</td>\n",
       "      <td>473.0</td>\n",
       "      <td>A</td>\n",
       "    </tr>\n",
       "  </tbody>\n",
       "</table>\n",
       "<p>5 rows × 60 columns</p>\n",
       "</div>"
      ],
      "text/plain": [
       "   Unnamed: 0 user_name  raw_timestamp_part_1  raw_timestamp_part_2  \\\n",
       "0           1  carlitos            1323084231                788290   \n",
       "1           2  carlitos            1323084231                808298   \n",
       "2           3  carlitos            1323084231                820366   \n",
       "3           4  carlitos            1323084232                120339   \n",
       "4           5  carlitos            1323084232                196328   \n",
       "\n",
       "     cvtd_timestamp new_window  num_window  roll_belt  pitch_belt  yaw_belt  \\\n",
       "0  05/12/2011 11:23         no          11       1.41        8.07     -94.4   \n",
       "1  05/12/2011 11:23         no          11       1.41        8.07     -94.4   \n",
       "2  05/12/2011 11:23         no          11       1.42        8.07     -94.4   \n",
       "3  05/12/2011 11:23         no          12       1.48        8.05     -94.4   \n",
       "4  05/12/2011 11:23         no          12       1.48        8.07     -94.4   \n",
       "\n",
       "    ...    gyros_forearm_x  gyros_forearm_y  gyros_forearm_z  accel_forearm_x  \\\n",
       "0   ...               0.03             0.00            -0.02              192   \n",
       "1   ...               0.02             0.00            -0.02              192   \n",
       "2   ...               0.03            -0.02             0.00              196   \n",
       "3   ...               0.02            -0.02             0.00              189   \n",
       "4   ...               0.02             0.00            -0.02              189   \n",
       "\n",
       "   accel_forearm_y  accel_forearm_z  magnet_forearm_x  magnet_forearm_y  \\\n",
       "0              203             -215               -17             654.0   \n",
       "1              203             -216               -18             661.0   \n",
       "2              204             -213               -18             658.0   \n",
       "3              206             -214               -16             658.0   \n",
       "4              206             -214               -17             655.0   \n",
       "\n",
       "   magnet_forearm_z  classe  \n",
       "0             476.0       A  \n",
       "1             473.0       A  \n",
       "2             469.0       A  \n",
       "3             469.0       A  \n",
       "4             473.0       A  \n",
       "\n",
       "[5 rows x 60 columns]"
      ]
     },
     "execution_count": 8,
     "metadata": {},
     "output_type": "execute_result"
    }
   ],
   "source": [
    "df.head()"
   ]
  },
  {
   "cell_type": "code",
   "execution_count": 9,
   "metadata": {
    "collapsed": true
   },
   "outputs": [],
   "source": [
    "del df['Unnamed: 0']"
   ]
  },
  {
   "cell_type": "code",
   "execution_count": 10,
   "metadata": {
    "collapsed": true
   },
   "outputs": [],
   "source": [
    "target = df['classe']"
   ]
  },
  {
   "cell_type": "code",
   "execution_count": 11,
   "metadata": {
    "collapsed": true
   },
   "outputs": [],
   "source": [
    "del df['classe']\n",
    "del df['user_name']"
   ]
  },
  {
   "cell_type": "code",
   "execution_count": 12,
   "metadata": {},
   "outputs": [
    {
     "data": {
      "text/html": [
       "<div>\n",
       "<style>\n",
       "    .dataframe thead tr:only-child th {\n",
       "        text-align: right;\n",
       "    }\n",
       "\n",
       "    .dataframe thead th {\n",
       "        text-align: left;\n",
       "    }\n",
       "\n",
       "    .dataframe tbody tr th {\n",
       "        vertical-align: top;\n",
       "    }\n",
       "</style>\n",
       "<table border=\"1\" class=\"dataframe\">\n",
       "  <thead>\n",
       "    <tr style=\"text-align: right;\">\n",
       "      <th></th>\n",
       "      <th>raw_timestamp_part_1</th>\n",
       "      <th>raw_timestamp_part_2</th>\n",
       "      <th>cvtd_timestamp</th>\n",
       "      <th>new_window</th>\n",
       "      <th>num_window</th>\n",
       "      <th>roll_belt</th>\n",
       "      <th>pitch_belt</th>\n",
       "      <th>yaw_belt</th>\n",
       "      <th>total_accel_belt</th>\n",
       "      <th>gyros_belt_x</th>\n",
       "      <th>...</th>\n",
       "      <th>total_accel_forearm</th>\n",
       "      <th>gyros_forearm_x</th>\n",
       "      <th>gyros_forearm_y</th>\n",
       "      <th>gyros_forearm_z</th>\n",
       "      <th>accel_forearm_x</th>\n",
       "      <th>accel_forearm_y</th>\n",
       "      <th>accel_forearm_z</th>\n",
       "      <th>magnet_forearm_x</th>\n",
       "      <th>magnet_forearm_y</th>\n",
       "      <th>magnet_forearm_z</th>\n",
       "    </tr>\n",
       "  </thead>\n",
       "  <tbody>\n",
       "    <tr>\n",
       "      <th>0</th>\n",
       "      <td>1323084231</td>\n",
       "      <td>788290</td>\n",
       "      <td>05/12/2011 11:23</td>\n",
       "      <td>no</td>\n",
       "      <td>11</td>\n",
       "      <td>1.41</td>\n",
       "      <td>8.07</td>\n",
       "      <td>-94.4</td>\n",
       "      <td>3</td>\n",
       "      <td>0.00</td>\n",
       "      <td>...</td>\n",
       "      <td>36</td>\n",
       "      <td>0.03</td>\n",
       "      <td>0.00</td>\n",
       "      <td>-0.02</td>\n",
       "      <td>192</td>\n",
       "      <td>203</td>\n",
       "      <td>-215</td>\n",
       "      <td>-17</td>\n",
       "      <td>654.0</td>\n",
       "      <td>476.0</td>\n",
       "    </tr>\n",
       "    <tr>\n",
       "      <th>1</th>\n",
       "      <td>1323084231</td>\n",
       "      <td>808298</td>\n",
       "      <td>05/12/2011 11:23</td>\n",
       "      <td>no</td>\n",
       "      <td>11</td>\n",
       "      <td>1.41</td>\n",
       "      <td>8.07</td>\n",
       "      <td>-94.4</td>\n",
       "      <td>3</td>\n",
       "      <td>0.02</td>\n",
       "      <td>...</td>\n",
       "      <td>36</td>\n",
       "      <td>0.02</td>\n",
       "      <td>0.00</td>\n",
       "      <td>-0.02</td>\n",
       "      <td>192</td>\n",
       "      <td>203</td>\n",
       "      <td>-216</td>\n",
       "      <td>-18</td>\n",
       "      <td>661.0</td>\n",
       "      <td>473.0</td>\n",
       "    </tr>\n",
       "    <tr>\n",
       "      <th>2</th>\n",
       "      <td>1323084231</td>\n",
       "      <td>820366</td>\n",
       "      <td>05/12/2011 11:23</td>\n",
       "      <td>no</td>\n",
       "      <td>11</td>\n",
       "      <td>1.42</td>\n",
       "      <td>8.07</td>\n",
       "      <td>-94.4</td>\n",
       "      <td>3</td>\n",
       "      <td>0.00</td>\n",
       "      <td>...</td>\n",
       "      <td>36</td>\n",
       "      <td>0.03</td>\n",
       "      <td>-0.02</td>\n",
       "      <td>0.00</td>\n",
       "      <td>196</td>\n",
       "      <td>204</td>\n",
       "      <td>-213</td>\n",
       "      <td>-18</td>\n",
       "      <td>658.0</td>\n",
       "      <td>469.0</td>\n",
       "    </tr>\n",
       "    <tr>\n",
       "      <th>3</th>\n",
       "      <td>1323084232</td>\n",
       "      <td>120339</td>\n",
       "      <td>05/12/2011 11:23</td>\n",
       "      <td>no</td>\n",
       "      <td>12</td>\n",
       "      <td>1.48</td>\n",
       "      <td>8.05</td>\n",
       "      <td>-94.4</td>\n",
       "      <td>3</td>\n",
       "      <td>0.02</td>\n",
       "      <td>...</td>\n",
       "      <td>36</td>\n",
       "      <td>0.02</td>\n",
       "      <td>-0.02</td>\n",
       "      <td>0.00</td>\n",
       "      <td>189</td>\n",
       "      <td>206</td>\n",
       "      <td>-214</td>\n",
       "      <td>-16</td>\n",
       "      <td>658.0</td>\n",
       "      <td>469.0</td>\n",
       "    </tr>\n",
       "    <tr>\n",
       "      <th>4</th>\n",
       "      <td>1323084232</td>\n",
       "      <td>196328</td>\n",
       "      <td>05/12/2011 11:23</td>\n",
       "      <td>no</td>\n",
       "      <td>12</td>\n",
       "      <td>1.48</td>\n",
       "      <td>8.07</td>\n",
       "      <td>-94.4</td>\n",
       "      <td>3</td>\n",
       "      <td>0.02</td>\n",
       "      <td>...</td>\n",
       "      <td>36</td>\n",
       "      <td>0.02</td>\n",
       "      <td>0.00</td>\n",
       "      <td>-0.02</td>\n",
       "      <td>189</td>\n",
       "      <td>206</td>\n",
       "      <td>-214</td>\n",
       "      <td>-17</td>\n",
       "      <td>655.0</td>\n",
       "      <td>473.0</td>\n",
       "    </tr>\n",
       "  </tbody>\n",
       "</table>\n",
       "<p>5 rows × 57 columns</p>\n",
       "</div>"
      ],
      "text/plain": [
       "   raw_timestamp_part_1  raw_timestamp_part_2    cvtd_timestamp new_window  \\\n",
       "0            1323084231                788290  05/12/2011 11:23         no   \n",
       "1            1323084231                808298  05/12/2011 11:23         no   \n",
       "2            1323084231                820366  05/12/2011 11:23         no   \n",
       "3            1323084232                120339  05/12/2011 11:23         no   \n",
       "4            1323084232                196328  05/12/2011 11:23         no   \n",
       "\n",
       "   num_window  roll_belt  pitch_belt  yaw_belt  total_accel_belt  \\\n",
       "0          11       1.41        8.07     -94.4                 3   \n",
       "1          11       1.41        8.07     -94.4                 3   \n",
       "2          11       1.42        8.07     -94.4                 3   \n",
       "3          12       1.48        8.05     -94.4                 3   \n",
       "4          12       1.48        8.07     -94.4                 3   \n",
       "\n",
       "   gyros_belt_x        ...         total_accel_forearm  gyros_forearm_x  \\\n",
       "0          0.00        ...                          36             0.03   \n",
       "1          0.02        ...                          36             0.02   \n",
       "2          0.00        ...                          36             0.03   \n",
       "3          0.02        ...                          36             0.02   \n",
       "4          0.02        ...                          36             0.02   \n",
       "\n",
       "   gyros_forearm_y  gyros_forearm_z  accel_forearm_x  accel_forearm_y  \\\n",
       "0             0.00            -0.02              192              203   \n",
       "1             0.00            -0.02              192              203   \n",
       "2            -0.02             0.00              196              204   \n",
       "3            -0.02             0.00              189              206   \n",
       "4             0.00            -0.02              189              206   \n",
       "\n",
       "   accel_forearm_z  magnet_forearm_x  magnet_forearm_y  magnet_forearm_z  \n",
       "0             -215               -17             654.0             476.0  \n",
       "1             -216               -18             661.0             473.0  \n",
       "2             -213               -18             658.0             469.0  \n",
       "3             -214               -16             658.0             469.0  \n",
       "4             -214               -17             655.0             473.0  \n",
       "\n",
       "[5 rows x 57 columns]"
      ]
     },
     "execution_count": 12,
     "metadata": {},
     "output_type": "execute_result"
    }
   ],
   "source": [
    "df.head()"
   ]
  },
  {
   "cell_type": "code",
   "execution_count": 13,
   "metadata": {
    "collapsed": true
   },
   "outputs": [],
   "source": [
    "target = le.transform(target)"
   ]
  },
  {
   "cell_type": "code",
   "execution_count": 14,
   "metadata": {
    "collapsed": true
   },
   "outputs": [],
   "source": [
    "le1 = LabelEncoder()"
   ]
  },
  {
   "cell_type": "code",
   "execution_count": 15,
   "metadata": {
    "collapsed": true
   },
   "outputs": [],
   "source": [
    "df['new_window'] = le1.fit_transform(df['new_window'])"
   ]
  },
  {
   "cell_type": "code",
   "execution_count": 16,
   "metadata": {
    "collapsed": true
   },
   "outputs": [],
   "source": [
    "del df['cvtd_timestamp']"
   ]
  },
  {
   "cell_type": "markdown",
   "metadata": {},
   "source": [
    "## Fitting"
   ]
  },
  {
   "cell_type": "markdown",
   "metadata": {},
   "source": [
    "### Decision Tree"
   ]
  },
  {
   "cell_type": "code",
   "execution_count": 17,
   "metadata": {},
   "outputs": [
    {
     "ename": "ModuleNotFoundError",
     "evalue": "No module named 'pydotplus'",
     "output_type": "error",
     "traceback": [
      "\u001b[1;31m---------------------------------------------------------------------------\u001b[0m",
      "\u001b[1;31mModuleNotFoundError\u001b[0m                       Traceback (most recent call last)",
      "\u001b[1;32m<ipython-input-17-da7bf6954bb9>\u001b[0m in \u001b[0;36m<module>\u001b[1;34m()\u001b[0m\n\u001b[0;32m      1\u001b[0m \u001b[1;32mfrom\u001b[0m \u001b[0msklearn\u001b[0m \u001b[1;32mimport\u001b[0m \u001b[0mdatasets\u001b[0m\u001b[1;33m\u001b[0m\u001b[0m\n\u001b[0;32m      2\u001b[0m \u001b[1;32mfrom\u001b[0m \u001b[0msklearn\u001b[0m \u001b[1;32mimport\u001b[0m \u001b[0mtree\u001b[0m\u001b[1;33m\u001b[0m\u001b[0m\n\u001b[1;32m----> 3\u001b[1;33m \u001b[1;32mimport\u001b[0m \u001b[0mpydotplus\u001b[0m\u001b[1;33m\u001b[0m\u001b[0m\n\u001b[0m",
      "\u001b[1;31mModuleNotFoundError\u001b[0m: No module named 'pydotplus'"
     ]
    }
   ],
   "source": [
    "from sklearn import datasets\n",
    "from sklearn import tree\n",
    "import pydotplus"
   ]
  },
  {
   "cell_type": "code",
   "execution_count": 18,
   "metadata": {
    "collapsed": true
   },
   "outputs": [],
   "source": [
    "clf = tree.DecisionTreeClassifier()"
   ]
  },
  {
   "cell_type": "code",
   "execution_count": 19,
   "metadata": {},
   "outputs": [
    {
     "name": "stderr",
     "output_type": "stream",
     "text": [
      "C:\\ProgramData\\Anaconda3\\lib\\site-packages\\sklearn\\cross_validation.py:44: DeprecationWarning: This module was deprecated in version 0.18 in favor of the model_selection module into which all the refactored classes and functions are moved. Also note that the interface of the new CV iterators are different from that of this module. This module will be removed in 0.20.\n",
      "  \"This module will be removed in 0.20.\", DeprecationWarning)\n"
     ]
    },
    {
     "data": {
      "text/plain": [
       "DecisionTreeClassifier(class_weight=None, criterion='gini', max_depth=None,\n",
       "            max_features=None, max_leaf_nodes=None,\n",
       "            min_impurity_split=1e-07, min_samples_leaf=1,\n",
       "            min_samples_split=2, min_weight_fraction_leaf=0.0,\n",
       "            presort=False, random_state=None, splitter='best')"
      ]
     },
     "execution_count": 19,
     "metadata": {},
     "output_type": "execute_result"
    }
   ],
   "source": [
    "from sklearn import cross_validation\n",
    "X_Train, X_Test, Y_Train, Y_Test = cross_validation.train_test_split(df, target, test_size = 0.2)\n",
    "clf.fit(X_Train, Y_Train)"
   ]
  },
  {
   "cell_type": "code",
   "execution_count": 20,
   "metadata": {},
   "outputs": [
    {
     "data": {
      "text/plain": [
       "True"
      ]
     },
     "execution_count": 20,
     "metadata": {},
     "output_type": "execute_result"
    }
   ],
   "source": [
    "dot_data = tree.export_graphviz(clf, out_file=None,  \n",
    "                         class_names=True,\n",
    "                         feature_names = df.columns, \n",
    "                         filled=True, rounded=True,  \n",
    "                         special_characters=True)\n",
    "graph = pydotplus.graph_from_dot_data(dot_data)\n",
    "graph.write_pdf('fitbit.pdf')"
   ]
  },
  {
   "cell_type": "code",
   "execution_count": 21,
   "metadata": {},
   "outputs": [
    {
     "data": {
      "text/plain": [
       "0.98191082802547769"
      ]
     },
     "execution_count": 21,
     "metadata": {},
     "output_type": "execute_result"
    }
   ],
   "source": [
    "clf.score(X_Test, Y_Test)"
   ]
  },
  {
   "cell_type": "code",
   "execution_count": 22,
   "metadata": {
    "collapsed": true
   },
   "outputs": [],
   "source": [
    "del df['raw_timestamp_part_1']\n",
    "del df['raw_timestamp_part_2']"
   ]
  },
  {
   "cell_type": "code",
   "execution_count": 23,
   "metadata": {},
   "outputs": [
    {
     "data": {
      "text/plain": [
       "0.97426751592356686"
      ]
     },
     "execution_count": 23,
     "metadata": {},
     "output_type": "execute_result"
    }
   ],
   "source": [
    "X_Train, X_Test, Y_Train, Y_Test = cross_validation.train_test_split(df, target, test_size = 0.2)\n",
    "clf.fit(X_Train, Y_Train)\n",
    "dot_data = tree.export_graphviz(clf, out_file=None,  \n",
    "                         class_names=True,  \n",
    "                         filled=True, rounded=True,  \n",
    "                         special_characters=True)\n",
    "graph = pydotplus.graph_from_dot_data(dot_data)\n",
    "graph.write_pdf('fitbit.pdf')\n",
    "clf.score(X_Test, Y_Test)"
   ]
  },
  {
   "cell_type": "markdown",
   "metadata": {},
   "source": [
    "### Random Forest"
   ]
  },
  {
   "cell_type": "code",
   "execution_count": 24,
   "metadata": {
    "collapsed": true
   },
   "outputs": [],
   "source": [
    "from sklearn.ensemble import RandomForestClassifier"
   ]
  },
  {
   "cell_type": "code",
   "execution_count": 25,
   "metadata": {
    "collapsed": true
   },
   "outputs": [],
   "source": [
    "clf1 = RandomForestClassifier()"
   ]
  },
  {
   "cell_type": "code",
   "execution_count": 26,
   "metadata": {},
   "outputs": [
    {
     "data": {
      "text/plain": [
       "0.9946496815286624"
      ]
     },
     "execution_count": 26,
     "metadata": {},
     "output_type": "execute_result"
    }
   ],
   "source": [
    "clf1.fit(X_Train, Y_Train)\n",
    "clf1.score(X_Test, Y_Test)"
   ]
  },
  {
   "cell_type": "markdown",
   "metadata": {},
   "source": [
    "### Linear Model"
   ]
  },
  {
   "cell_type": "code",
   "execution_count": 27,
   "metadata": {
    "collapsed": true
   },
   "outputs": [],
   "source": [
    "from sklearn.linear_model import LinearRegression"
   ]
  },
  {
   "cell_type": "code",
   "execution_count": 28,
   "metadata": {
    "collapsed": true
   },
   "outputs": [],
   "source": [
    "clf2 = LinearRegression()"
   ]
  },
  {
   "cell_type": "code",
   "execution_count": 29,
   "metadata": {},
   "outputs": [
    {
     "data": {
      "text/plain": [
       "0.51043954970623284"
      ]
     },
     "execution_count": 29,
     "metadata": {},
     "output_type": "execute_result"
    }
   ],
   "source": [
    "clf2.fit(X_Train, Y_Train)\n",
    "clf2.score(X_Test, Y_Test)"
   ]
  },
  {
   "cell_type": "code",
   "execution_count": 30,
   "metadata": {},
   "outputs": [
    {
     "name": "stdout",
     "output_type": "stream",
     "text": [
      "             precision    recall  f1-score   support\n",
      "\n",
      "          0       1.00      1.00      1.00      1082\n",
      "          1       1.00      1.00      1.00       760\n",
      "          2       0.98      1.00      0.99       715\n",
      "          3       0.99      0.98      0.99       607\n",
      "          4       1.00      0.99      1.00       761\n",
      "\n",
      "avg / total       0.99      0.99      0.99      3925\n",
      "\n"
     ]
    }
   ],
   "source": [
    "from sklearn.metrics import classification_report as cr\n",
    "y_pred = clf1.predict(X_Test)\n",
    "print (cr(Y_Test, y_pred))"
   ]
  },
  {
   "cell_type": "markdown",
   "metadata": {},
   "source": [
    "# Results :\n",
    "\n",
    "## Decision Tree : 0.98955\n",
    "## Random Forest : 0.99337\n",
    "## Linear Regression : 0.51108"
   ]
  },
  {
   "cell_type": "code",
   "execution_count": null,
   "metadata": {
    "collapsed": true
   },
   "outputs": [],
   "source": [
    "target"
   ]
  },
  {
   "cell_type": "code",
   "execution_count": null,
   "metadata": {
    "collapsed": true
   },
   "outputs": [],
   "source": [
    "from sklearn.metrics import confusion_matrix as cm\n",
    "print (cm(Y_Test, y_pred))"
   ]
  },
  {
   "cell_type": "code",
   "execution_count": null,
   "metadata": {
    "collapsed": true
   },
   "outputs": [],
   "source": []
  },
  {
   "cell_type": "markdown",
   "metadata": {
    "collapsed": true
   },
   "source": [
    "## Logistic Regression"
   ]
  },
  {
   "cell_type": "code",
   "execution_count": 32,
   "metadata": {},
   "outputs": [
    {
     "data": {
      "text/plain": [
       "array([0, 0, 0, ..., 4, 4, 4], dtype=int64)"
      ]
     },
     "execution_count": 32,
     "metadata": {},
     "output_type": "execute_result"
    }
   ],
   "source": [
    "target"
   ]
  },
  {
   "cell_type": "code",
   "execution_count": 33,
   "metadata": {
    "collapsed": true
   },
   "outputs": [],
   "source": [
    "df['target'] = target"
   ]
  },
  {
   "cell_type": "code",
   "execution_count": 35,
   "metadata": {},
   "outputs": [
    {
     "data": {
      "text/plain": [
       "\"class_a = df[df['target'] == 0]\\nclass_b = df[df['target'] == 1]\\nclass_c = df[df['target'] == 2]\\nclass_d = df[df['target'] == 3]\\nclass_e = df[df['target'] == 4]\""
      ]
     },
     "execution_count": 35,
     "metadata": {},
     "output_type": "execute_result"
    }
   ],
   "source": [
    "'''class_a = df[df['target'] == 0]\n",
    "class_b = df[df['target'] == 1]\n",
    "class_c = df[df['target'] == 2]\n",
    "class_d = df[df['target'] == 3]\n",
    "class_e = df[df['target'] == 4]'''"
   ]
  },
  {
   "cell_type": "code",
   "execution_count": null,
   "metadata": {
    "collapsed": true
   },
   "outputs": [],
   "source": []
  }
 ],
 "metadata": {
  "kernelspec": {
   "display_name": "Python 3",
   "language": "python",
   "name": "python3"
  },
  "language_info": {
   "codemirror_mode": {
    "name": "ipython",
    "version": 3
   },
   "file_extension": ".py",
   "mimetype": "text/x-python",
   "name": "python",
   "nbconvert_exporter": "python",
   "pygments_lexer": "ipython3",
   "version": "3.6.1"
  }
 },
 "nbformat": 4,
 "nbformat_minor": 2
}
